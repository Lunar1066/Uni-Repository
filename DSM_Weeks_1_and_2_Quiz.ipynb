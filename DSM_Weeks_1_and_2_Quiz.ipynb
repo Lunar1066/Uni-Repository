{
 "cells": [
  {
   "cell_type": "markdown",
   "metadata": {},
   "source": [
    "## Data Science for Manufacturing - Weeks_1_and_2_Quiz"
   ]
  },
  {
   "cell_type": "markdown",
   "metadata": {},
   "source": [
    "## 1. \n",
    "\n",
    "What is displayed when a Python cell in a notebook that contains several calculations is executed? For example, what happens when this cell is executed?\n",
    "\n",
    "`7 * 3\n",
    " 2 + 1`\n"
   ]
  },
  {
   "cell_type": "code",
   "execution_count": 5,
   "metadata": {},
   "outputs": [
    {
     "data": {
      "text/plain": [
       "3"
      ]
     },
     "execution_count": 5,
     "metadata": {},
     "output_type": "execute_result"
    }
   ],
   "source": [
    "7 * 3\n",
    "2 + 1"
   ]
  },
  {
   "cell_type": "markdown",
   "metadata": {},
   "source": [
    "It only carries out the last calculation"
   ]
  },
  {
   "cell_type": "markdown",
   "metadata": {},
   "source": [
    "## 2. \n",
    "\n",
    "What type of value is 3.25 + 4?"
   ]
  },
  {
   "cell_type": "markdown",
   "metadata": {},
   "source": [
    "Floating Point Number"
   ]
  },
  {
   "cell_type": "markdown",
   "metadata": {},
   "source": [
    "## 3.\n",
    "\n",
    " What are the data types of the following variables?\n",
    " \n",
    "`planet = 'Earth' \n",
    " apples = 5\n",
    " distance = 10.5`\n"
   ]
  },
  {
   "cell_type": "code",
   "execution_count": 6,
   "metadata": {},
   "outputs": [],
   "source": [
    "planet = 'Earth'\n",
    "apples = 5\n",
    "distance = 10.5"
   ]
  },
  {
   "cell_type": "code",
   "execution_count": 7,
   "metadata": {
    "scrolled": true
   },
   "outputs": [
    {
     "name": "stdout",
     "output_type": "stream",
     "text": [
      "Variable   Type     Data/Info\n",
      "-----------------------------\n",
      "apples     int      5\n",
      "distance   float    10.5\n",
      "planet     str      Earth\n"
     ]
    }
   ],
   "source": [
    "%whos"
   ]
  },
  {
   "cell_type": "markdown",
   "metadata": {},
   "source": [
    "## 4.\n",
    "\n",
    "Note that return and print are not interchangeable. print is a Python function that prints data to the screen. It enables us, users, see the data. return statement, on the other hand, makes data visible to the program. Let’s have a look at the following function:\n",
    "\n",
    "`def add(a, b):\n",
    "    print(a + b)`\n",
    "\n",
    "Question: What will we see if we execute the following commands?\n",
    "\n",
    "`A = add(7, 3)\n",
    "print(A)`\n"
   ]
  },
  {
   "cell_type": "code",
   "execution_count": 9,
   "metadata": {
    "scrolled": false
   },
   "outputs": [
    {
     "name": "stdout",
     "output_type": "stream",
     "text": [
      "10\n",
      "None\n"
     ]
    }
   ],
   "source": [
    "def add(a, b):\n",
    "    print(a + b)\n",
    "\n",
    "A = add(7, 3)\n",
    "print(A)"
   ]
  },
  {
   "cell_type": "code",
   "execution_count": 10,
   "metadata": {},
   "outputs": [
    {
     "name": "stdout",
     "output_type": "stream",
     "text": [
      "10\n"
     ]
    }
   ],
   "source": [
    "def add(a, b):\n",
    "    result = a + b\n",
    "    return result\n",
    "\n",
    "A = add(7, 3)\n",
    "print(A)"
   ]
  },
  {
   "cell_type": "markdown",
   "metadata": {},
   "source": [
    "## 5.\n",
    "\n",
    "Use a for-loop to convert the string “hello” into a list of letters:\n",
    "\n",
    "[\"h\", \"e\", \"l\", \"l\", \"o\"]\n",
    "\n",
    "Hint: You can create an empty list like this:\n",
    "\n",
    "`my_list = []`\n"
   ]
  },
  {
   "cell_type": "code",
   "execution_count": 3,
   "metadata": {},
   "outputs": [
    {
     "name": "stdout",
     "output_type": "stream",
     "text": [
      "['h', 'e', 'l', 'l', 'o']\n"
     ]
    }
   ],
   "source": [
    "my_list = []\n",
    "\n",
    "for char in 'hello':\n",
    "    my_list.append(char)\n",
    "print(my_list)"
   ]
  },
  {
   "cell_type": "markdown",
   "metadata": {},
   "source": [
    "## 6.\n",
    "\n",
    "Which of the following will return the floating point number 2.0? Note: there may be more than one right answer.\n",
    "\n",
    "`first = 1.0\n",
    " second = \"1\"\n",
    " third = \"1.1\"`\n",
    "\n",
    "  1.  first + float(second) Yes\n",
    "  2.  float(second) + float(third) No\n",
    "  3.   first + int(third)\n",
    "  4.  first + int(float(third))\n",
    "  5.  int(first) + int(float(third))\n",
    "  6.  2.0 * second"
   ]
  },
  {
   "cell_type": "code",
   "execution_count": 75,
   "metadata": {},
   "outputs": [],
   "source": [
    "first = 1.0\n",
    "second = \"1\"\n",
    "third = \"1.1\""
   ]
  },
  {
   "cell_type": "code",
   "execution_count": 84,
   "metadata": {},
   "outputs": [
    {
     "name": "stdout",
     "output_type": "stream",
     "text": [
      "2.0\n"
     ]
    }
   ],
   "source": [
    "print((first)+float(second))"
   ]
  },
  {
   "cell_type": "code",
   "execution_count": 77,
   "metadata": {},
   "outputs": [
    {
     "name": "stdout",
     "output_type": "stream",
     "text": [
      "2.1\n"
     ]
    }
   ],
   "source": [
    "print(float(second)+float(third))"
   ]
  },
  {
   "cell_type": "code",
   "execution_count": 85,
   "metadata": {},
   "outputs": [
    {
     "name": "stdout",
     "output_type": "stream",
     "text": [
      "2.0\n"
     ]
    }
   ],
   "source": [
    "print((first)+int(second))"
   ]
  },
  {
   "cell_type": "code",
   "execution_count": 88,
   "metadata": {},
   "outputs": [
    {
     "name": "stdout",
     "output_type": "stream",
     "text": [
      "2.0\n"
     ]
    }
   ],
   "source": [
    "print((first)+int(float(second)))"
   ]
  },
  {
   "cell_type": "code",
   "execution_count": 91,
   "metadata": {},
   "outputs": [
    {
     "name": "stdout",
     "output_type": "stream",
     "text": [
      "2\n"
     ]
    }
   ],
   "source": [
    "print((int(first)+int(float(third))))"
   ]
  },
  {
   "cell_type": "code",
   "execution_count": 95,
   "metadata": {},
   "outputs": [
    {
     "name": "stdout",
     "output_type": "stream",
     "text": [
      "2.0\n"
     ]
    }
   ],
   "source": [
    "print(2.0*int(second))"
   ]
  },
  {
   "cell_type": "markdown",
   "metadata": {},
   "source": [
    "## 7. \n",
    "Read the data in [`concrete.csv`](https://www.kaggle.com/vinayakshanawad/cement-manufacturing-concrete-dataset) into a variable called [concrete] and display its summary statistics indexed by age. "
   ]
  },
  {
   "cell_type": "code",
   "execution_count": 6,
   "metadata": {},
   "outputs": [],
   "source": [
    "import pandas as pd"
   ]
  },
  {
   "cell_type": "code",
   "execution_count": 8,
   "metadata": {},
   "outputs": [],
   "source": [
    "concrete = pd.read_csv('concrete.csv')"
   ]
  },
  {
   "cell_type": "code",
   "execution_count": 11,
   "metadata": {},
   "outputs": [
    {
     "name": "stdout",
     "output_type": "stream",
     "text": [
      "        id  cement   slag  ash  water  superplastic  coarseagg  fineagg  \\\n",
      "age                                                                       \n",
      "3       A1   102.0  153.0  0.0  192.0           0.0      887.0    942.0   \n",
      "7       A2   102.0  153.0  0.0  192.0           0.0      887.0    942.0   \n",
      "28      A3   102.0  153.0  0.0  192.0           0.0      887.0    942.0   \n",
      "90      A4   102.0  153.0  0.0  192.0           0.0      887.0    942.0   \n",
      "3       A5   108.3  162.4  0.0  203.5           0.0      938.2    849.0   \n",
      "..     ...     ...    ...  ...    ...           ...        ...      ...   \n",
      "28   A1026   540.0    0.0  0.0  162.0           2.5     1040.0    676.0   \n",
      "28   A1027   540.0    0.0  0.0  173.0           0.0     1125.0    613.0   \n",
      "90   A1028   540.0    0.0  0.0  173.0           0.0     1125.0    613.0   \n",
      "180  A1029   540.0    0.0  0.0  173.0           0.0     1125.0    613.0   \n",
      "270  A1030   540.0    0.0  0.0  173.0           0.0     1125.0    613.0   \n",
      "\n",
      "     strength  \n",
      "age            \n",
      "3        4.57  \n",
      "7        7.68  \n",
      "28      17.28  \n",
      "90      25.46  \n",
      "3        2.33  \n",
      "..        ...  \n",
      "28      79.99  \n",
      "28      67.31  \n",
      "90      69.66  \n",
      "180     71.62  \n",
      "270     74.17  \n",
      "\n",
      "[1030 rows x 9 columns]\n"
     ]
    }
   ],
   "source": [
    "concrete = pd.read_csv('concrete.csv', index_col='age')\n",
    "print(concrete)"
   ]
  },
  {
   "cell_type": "markdown",
   "metadata": {},
   "source": [
    "## 8. \n",
    "Assume Pandas has been imported into your notebook and the concrete data has been loaded:\n",
    "\n",
    "`import pandas as pd\n",
    "df = pd.read_csv('concrete.csv', index_col='id')`\n",
    "\n",
    "Write an expression to find the `strength` of concrete for the product with ID 185."
   ]
  },
  {
   "cell_type": "code",
   "execution_count": 13,
   "metadata": {},
   "outputs": [
    {
     "name": "stdout",
     "output_type": "stream",
     "text": [
      "       cement   slag  ash  water  superplastic  coarseagg  fineagg  age  \\\n",
      "id                                                                        \n",
      "A1      102.0  153.0  0.0  192.0           0.0      887.0    942.0    3   \n",
      "A2      102.0  153.0  0.0  192.0           0.0      887.0    942.0    7   \n",
      "A3      102.0  153.0  0.0  192.0           0.0      887.0    942.0   28   \n",
      "A4      102.0  153.0  0.0  192.0           0.0      887.0    942.0   90   \n",
      "A5      108.3  162.4  0.0  203.5           0.0      938.2    849.0    3   \n",
      "...       ...    ...  ...    ...           ...        ...      ...  ...   \n",
      "A1026   540.0    0.0  0.0  162.0           2.5     1040.0    676.0   28   \n",
      "A1027   540.0    0.0  0.0  173.0           0.0     1125.0    613.0   28   \n",
      "A1028   540.0    0.0  0.0  173.0           0.0     1125.0    613.0   90   \n",
      "A1029   540.0    0.0  0.0  173.0           0.0     1125.0    613.0  180   \n",
      "A1030   540.0    0.0  0.0  173.0           0.0     1125.0    613.0  270   \n",
      "\n",
      "       strength  \n",
      "id               \n",
      "A1         4.57  \n",
      "A2         7.68  \n",
      "A3        17.28  \n",
      "A4        25.46  \n",
      "A5         2.33  \n",
      "...         ...  \n",
      "A1026     79.99  \n",
      "A1027     67.31  \n",
      "A1028     69.66  \n",
      "A1029     71.62  \n",
      "A1030     74.17  \n",
      "\n",
      "[1030 rows x 9 columns]\n"
     ]
    }
   ],
   "source": [
    "df = pd.read_csv('concrete.csv', index_col='id')\n",
    "print(df)"
   ]
  },
  {
   "cell_type": "code",
   "execution_count": 14,
   "metadata": {},
   "outputs": [
    {
     "name": "stdout",
     "output_type": "stream",
     "text": [
      "7.4\n"
     ]
    }
   ],
   "source": [
    "print(df.loc[\"A185\", \"strength\"])"
   ]
  }
 ],
 "metadata": {
  "kernelspec": {
   "display_name": "Python 3 (ipykernel)",
   "language": "python",
   "name": "python3"
  },
  "language_info": {
   "codemirror_mode": {
    "name": "ipython",
    "version": 3
   },
   "file_extension": ".py",
   "mimetype": "text/x-python",
   "name": "python",
   "nbconvert_exporter": "python",
   "pygments_lexer": "ipython3",
   "version": "3.9.2"
  }
 },
 "nbformat": 4,
 "nbformat_minor": 4
}
